{
 "cells": [
  {
   "cell_type": "markdown",
   "id": "407e56cb",
   "metadata": {},
   "source": [
    "# Set the Openai API key to os.environ variable"
   ]
  },
  {
   "cell_type": "code",
   "execution_count": 11,
   "id": "a1b5247c",
   "metadata": {},
   "outputs": [],
   "source": [
    "import os\n",
    "import openai\n",
    "import nest_asyncio\n",
    "\n",
    "OPENAI_API_KEY=\"sk-\"\n",
    "\n",
    "nest_asyncio.apply()"
   ]
  },
  {
   "cell_type": "code",
   "execution_count": 13,
   "id": "7e32dc85",
   "metadata": {},
   "outputs": [],
   "source": [
    "os.environ[\"OPENAI_API_KEY\"] = \"sk-\"\n",
    "openai.api_key = os.environ[\"OPENAI_API_KEY\"]"
   ]
  },
  {
   "cell_type": "markdown",
   "id": "70f76e59",
   "metadata": {},
   "source": [
    "# Load Data"
   ]
  },
  {
   "cell_type": "code",
   "execution_count": 14,
   "id": "3efb2cc5",
   "metadata": {},
   "outputs": [],
   "source": [
    "from pathlib import Path\n",
    "from llama_index import download_loader\n",
    "from llama_index import VectorStoreIndex, ServiceContext, StorageContext\n",
    "from llama_index.llms import OpenAI\n",
    "\n",
    "JSONReader = download_loader(\"JSONReader\")\n",
    "\n",
    "loader = JSONReader()\n",
    "documents = loader.load_data(Path('data.txt'))"
   ]
  },
  {
   "cell_type": "code",
   "execution_count": 4,
   "id": "c564c399",
   "metadata": {},
   "outputs": [
    {
     "data": {
      "text/plain": [
       "[Document(id_='6fdde138-228c-4de1-b319-089612c31903', embedding=None, metadata={}, excluded_embed_metadata_keys=[], excluded_llm_metadata_keys=[], relationships={}, hash='11fd8c0e11e7a39ad102dc20bbd0b3f30be3ddf7d9793382cdc8b3556d56fe49', text='{\\n\"breakfast\": [\\n{\\n\"name\": \"Classic Eggs Benedict\",\\n\"description\": \"Poached eggs on toasted English muffins with Canadian bacon and hollandaise sauce.\",\\n\"price\": 12.99,\\n\"ingredients\": [\\n\"Eggs\",\\n\"English muffin\",\\n\"Canadian bacon\",\\n\"Hollandaise sauce\"\\n],\\n\"options\": [\\n\"Gluten-free muffin\",\\n\"Turkey bacon\"\\n],\\n\"availability\": \"7am - 11am\"\\n{\\n\"name\": \"Blueberry Pancakes\",\\n\"description\": \"Fluffy pancakes filled with fresh blueberries, served with maple syrup and whipped cream.\",\\n\"price\": 10.5,\\n\"ingredients\": [\\n\"Flour\",\\n\"Blueberries\",\\n\"Eggs\",\\n\"Milk\",\\n\"Maple syrup\",\\n\"Whipped cream\"\\n],\\n\"options\": [\\n\"Add banana\",\\n\"Chocolate chips\"\\n],\\n\"availability\": \"7am - 11am\"\\n}\\n],\\n\"coffee\": [\\n{\\n\"name\": \"Espresso\",\\n\"description\": \"Rich and bold espresso, freshly brewed.\",\\n\"price\": 3.0,\\n\"ingredients\": [\\n\"Espresso\"\\n],\\n\"options\": [\\n\"Double shot\",\\n\"With milk\"\\n],\\n\"availability\": \"All day\"\\n{\\n\"name\": \"Cappuccino\",\\n\"description\": \"Espresso with steamed milk and a layer of frothy foam.\",\\n\"price\": 4.5,\\n\"ingredients\": [\\n\"Espresso\",\\n\"Milk\",\\n\"Foam\"\\n],\\n\"options\": [\\n\"Vanilla flavor\",\\n\"Cinnamon\"\\n],\\n\"availability\": \"All day\"\\n}\\n],\\n\"main_course\": [\\n{\\n\"name\": \"Grilled Salmon\",\\n\"description\": \"Fresh salmon fillet, grilled to perfection, served with steamed vegetables and lemon butter sauce.\",\\n\"price\": 18.99,\\n\"ingredients\": [\\n\"Salmon fillet\",\\n\"Vegetables\",\\n\"Lemon\",\\n\"Butter\"\\n],\\n\"options\": [\\n\"Extra lemon butter\",\\n\"Gluten-free\"\\n],\\n\"availability\": \"11am - 10pm\"\\n{\\n\"name\": \"Vegetarian Lasagna\",\\n\"description\": \"Layers of pasta with roasted vegetables, ricotta, and marinara sauce, topped with mozzarella cheese.\",\\n\"price\": 15.5,\\n\"ingredients\": [\\n\"Pasta\",\\n\"Roasted vegetables\",\\n\"Ricotta\",\\n\"Marinara sauce\",\\n\"Mozzarella\"\\n],\\n\"options\": [\\n\"Vegan cheese\",\\n\"Add chicken\"\\n],\\n\"availability\": \"11am - 10pm\"\\n}\\n],\\n\"starters\": [\\n{\\n\"name\": \"Bruschetta\",\\n\"description\": \"Toasted baguette slices topped with fresh tomatoes, basil, garlic, and olive oil.\",\\n\"price\": 7.99,\\n\"ingredients\": [\\n\"Baguette\",\\n\"Tomatoes\",\\n\"Basil\",\\n\"Garlic\",\\n\"Olive oil\"\\n],\\n\"options\": [\\n\"Add mozzarella\",\\n\"Gluten-free baguette\"\\n],\\n\"availability\": \"All day\"\\n{\\n\"name\": \"Chicken Wings\",\\n\"description\": \"Crispy chicken wings tossed in your choice of sauce.\",\\n\"price\": 9.99,\\n\"ingredients\": [\\n\"Chicken wings\",\\n\"Sauce\"\\n],\\n\"options\": [\\n\"Buffalo sauce\",\\n\"BBQ sauce\",\\n\"Honey mustard\"\\n],\\n\"availability\": \"All day\"\\n}\\n],\\n\"drinks\": [\\n{\\n\"name\": \"Iced Tea\",\\n\"description\": \"Refreshing iced tea brewed with a hint of lemon.\",\\n\"price\": 3.5,\\n\"ingredients\": [\\n\"Tea\",\\n\"Lemon\"\\n],\\n\"options\": [\\n\"Sweetened\",\\n\"Unsweetened\"\\n],\\n\"availability\": \"All day\"\\n{\\n\"name\": \"Fresh Lemonade\",\\n\"description\": \"Homemade lemonade made with fresh lemons and sugar.\",\\n\"price\": 4.0,\\n\"ingredients\": [\\n\"Lemons\",\\n\"Sugar\",\\n\"Water\"\\n],\\n\"options\": [\\n\"Add mint\",\\n\"Add strawberry\"\\n],\\n\"availability\": \"All day\"\\n}\\n]\\n}', start_char_idx=None, end_char_idx=None, text_template='{metadata_str}\\n\\n{content}', metadata_template='{key}: {value}', metadata_seperator='\\n')]"
      ]
     },
     "execution_count": 4,
     "metadata": {},
     "output_type": "execute_result"
    }
   ],
   "source": [
    "documents"
   ]
  },
  {
   "cell_type": "markdown",
   "id": "c4c4bc39",
   "metadata": {},
   "source": [
    "# Setting up Vector Indices"
   ]
  },
  {
   "cell_type": "markdown",
   "id": "0e2aad76",
   "metadata": {},
   "source": [
    "When documents are ingested into an index, they are split into chunks with a certain amount of overlap. The default chunk size is 1024, while the default chunk overlap is 20.\n",
    "\n",
    "Changing either of these parameters will change the embeddings that are calculated. A smaller chunk size means the embeddings are more precise, while a larger chunk size means that the embeddings may be more general, but can miss fine-grained details.\n",
    "\n",
    "Furthermore, when changing the chunk size for a vector index, you may also want to increase the similarity_top_k parameter to better represent the amount of data to retrieve for each query.\n",
    "\n",
    "Here, we halved the default chunk size, the example also doubles the similarity_top_k from the default of 2 to 4."
   ]
  },
  {
   "cell_type": "code",
   "execution_count": 32,
   "id": "ac5d2afa",
   "metadata": {},
   "outputs": [],
   "source": [
    "# chunk the data sets\n",
    "# Construct an instance of LlamaIndex’s ServiceContext, It will be used during RAG pipeline's indexing and querying stages\n",
    "# ServiceContext allows us to adjust settings such as the LLM and embedding model used\n",
    "llm = OpenAI(model=\"gpt-4\",openai_api_key=OPENAI_API_KEY)\n",
    "\n",
    "service_context = ServiceContext.from_defaults(\n",
    "    chunk_size=512, chunk_overlap=50,llm=llm\n",
    ")\n",
    "\n",
    "# creating index from the document\n",
    "#creates queryable indices from these chunks into the Knowledge Base\n",
    "index = VectorStoreIndex.from_documents(\n",
    "    documents, service_context=service_context\n",
    ")\n",
    "\n",
    "# define the above index as query_engine\n",
    "query_engine = index.as_query_engine(similarity_top_k=4)"
   ]
  },
  {
   "cell_type": "code",
   "execution_count": 18,
   "id": "1b7e7369",
   "metadata": {},
   "outputs": [],
   "source": [
    "# testing the quesy engine\n",
    "response = query_engine.query(\"What are the available breakfast options?\")"
   ]
  },
  {
   "cell_type": "code",
   "execution_count": 24,
   "id": "629b79c9",
   "metadata": {},
   "outputs": [
    {
     "data": {
      "text/plain": [
       "'The available breakfast options are Classic Eggs Benedict and Blueberry Pancakes. The Classic Eggs Benedict is made with poached eggs on toasted English muffins with Canadian bacon and hollandaise sauce, and it costs $12.99. You can also choose to have a gluten-free muffin or turkey bacon. The Blueberry Pancakes are fluffy pancakes filled with fresh blueberries, served with maple syrup and whipped cream, and they cost $10.5. You can add banana or chocolate chips to the pancakes. Both breakfast options are available from 7am to 11am.'"
      ]
     },
     "execution_count": 24,
     "metadata": {},
     "output_type": "execute_result"
    }
   ],
   "source": [
    "response.response"
   ]
  },
  {
   "cell_type": "markdown",
   "id": "f0aef4fb",
   "metadata": {},
   "source": [
    "# Setting up the Chatbot Agent"
   ]
  },
  {
   "cell_type": "code",
   "execution_count": 25,
   "id": "5e75a451",
   "metadata": {},
   "outputs": [],
   "source": [
    "from llama_index.tools import QueryEngineTool\n",
    "from llama_index.tools import QueryEngineTool, ToolMetadata"
   ]
  },
  {
   "cell_type": "code",
   "execution_count": 34,
   "id": "5646ecd9",
   "metadata": {},
   "outputs": [],
   "source": [
    "# create a Query Engine tool\n",
    "query_engine_tool = QueryEngineTool(\n",
    "    query_engine=query_engine,\n",
    "    metadata=ToolMetadata(\n",
    "        name=\"question_query_engine\",\n",
    "        description=\"useful for when you want to answer queries that require analyzing restaurent menu data\",\n",
    "    ),\n",
    ")\n",
    "tools = [query_engine_tool]\n",
    "from llama_index.agent import OpenAIAgent\n",
    "\n",
    "agent = OpenAIAgent.from_tools(tools, verbose=True)"
   ]
  },
  {
   "cell_type": "code",
   "execution_count": 35,
   "id": "55a4a85f",
   "metadata": {},
   "outputs": [
    {
     "name": "stdout",
     "output_type": "stream",
     "text": [
      "Added user message to memory: What are the available breakfast options?\n",
      "=== Calling Function ===\n",
      "Calling function: question_query_engine with args: {\n",
      "  \"input\": \"What are the available breakfast options?\"\n",
      "}\n",
      "Got output: The available breakfast options are \"Classic Eggs Benedict\" and \"Blueberry Pancakes\". The Classic Eggs Benedict is made with poached eggs on toasted English muffins with Canadian bacon and hollandaise sauce, and it costs $12.99. You can also choose to have a gluten-free muffin or turkey bacon. The Blueberry Pancakes are fluffy pancakes filled with fresh blueberries, served with maple syrup and whipped cream, and they cost $10.5. You can add banana or chocolate chips to the pancakes. Both breakfast options are available from 7am to 11am.\n",
      "========================\n",
      "\n",
      "The available breakfast options are \"Classic Eggs Benedict\" and \"Blueberry Pancakes\". The Classic Eggs Benedict is made with poached eggs on toasted English muffins with Canadian bacon and hollandaise sauce, and it costs $12.99. You can also choose to have a gluten-free muffin or turkey bacon. The Blueberry Pancakes are fluffy pancakes filled with fresh blueberries, served with maple syrup and whipped cream, and they cost $10.5. You can add banana or chocolate chips to the pancakes. Both breakfast options are available from 7am to 11am.\n"
     ]
    }
   ],
   "source": [
    "# Testing the agent\n",
    "response = agent.chat(\"What are the available breakfast options?\")\n",
    "print(str(response))"
   ]
  },
  {
   "cell_type": "markdown",
   "id": "5c397223",
   "metadata": {},
   "source": [
    "# Setting up the Chatbot Loop"
   ]
  },
  {
   "cell_type": "code",
   "execution_count": 31,
   "id": "e6ae49bc",
   "metadata": {},
   "outputs": [
    {
     "name": "stdout",
     "output_type": "stream",
     "text": [
      "User: What are the available breakfast options?\n",
      "Agent: The available breakfast options are:\n",
      "1. Classic Eggs Benedict - Poached eggs on toasted English muffins with Canadian bacon and hollandaise sauce. It costs $12.99 and you can choose to have a gluten-free muffin or turkey bacon as options.\n",
      "2. Blueberry Pancakes - Fluffy pancakes filled with fresh blueberries, served with maple syrup and whipped cream. It costs $10.5 and you can add banana or chocolate chips as options.\n",
      "\n",
      "Both breakfast options are available from 7am to 11am.\n",
      "User: what is the price for Iced tea?\n",
      "Agent: The price for Iced Tea is $3.5.\n",
      "User: exit\n"
     ]
    }
   ],
   "source": [
    "agent = OpenAIAgent.from_tools(tools)  # verbose=False by default\n",
    "\n",
    "while True:\n",
    "    text_input = input(\"User: \")\n",
    "    if text_input == \"exit\":\n",
    "        break\n",
    "    response = agent.chat(text_input)\n",
    "    print(f\"Agent: {response}\")"
   ]
  },
  {
   "cell_type": "markdown",
   "id": "642d8892",
   "metadata": {},
   "source": [
    "# Using .json File"
   ]
  },
  {
   "cell_type": "code",
   "execution_count": 53,
   "id": "40c05d0c",
   "metadata": {},
   "outputs": [],
   "source": [
    "from pathlib import Path\n",
    "from llama_index import download_loader\n",
    "from llama_index import VectorStoreIndex, ServiceContext, StorageContext\n",
    "from llama_index.llms import OpenAI\n",
    "\n",
    "#downloading a specific loader,JSONReader\n",
    "JSONReader = download_loader(\"JSONReader\")\n",
    "\n",
    "loader = JSONReader()\n",
    "documents = loader.load_data(Path('data.json'))"
   ]
  },
  {
   "cell_type": "code",
   "execution_count": 54,
   "id": "2094ec60",
   "metadata": {},
   "outputs": [],
   "source": [
    "llm = OpenAI(model=\"gpt-4\",openai_api_key=OPENAI_API_KEY)\n",
    "\n",
    "# Initializing service context with specified chunk parameters and language model\n",
    "service_context = ServiceContext.from_defaults(\n",
    "    chunk_size=512, chunk_overlap=50,llm=llm\n",
    ")\n",
    "\n",
    "# Creating an index from the document\n",
    "# below step generates queryable indices (Node index) from document chunks within the Knowledge Base\n",
    "# It generates vector embeddings that are stored in a specialized database called a vector store.\n",
    "index = VectorStoreIndex.from_documents(\n",
    "    documents, service_context=service_context\n",
    ")\n",
    "\n",
    "# define the above index as query_engine\n",
    "json_query_engine = index.as_query_engine(similarity_top_k=4)"
   ]
  },
  {
   "cell_type": "code",
   "execution_count": 57,
   "id": "73e12f37",
   "metadata": {},
   "outputs": [
    {
     "name": "stdout",
     "output_type": "stream",
     "text": [
      "The available breakfast options are \"Classic Eggs Benedict\" and \"Blueberry Pancakes\". The Classic Eggs Benedict is made with poached eggs on toasted English muffins with Canadian bacon and hollandaise sauce, and it costs $12.99. You can also choose to have a gluten-free muffin or turkey bacon. The Blueberry Pancakes are fluffy pancakes filled with fresh blueberries, served with maple syrup and whipped cream, and they cost $10.5. You can add banana or chocolate chips to the pancakes. Both breakfast options are available from 7am to 11am.\n"
     ]
    }
   ],
   "source": [
    "response = json_query_engine.query(\"What are the available breakfast options?\")\n",
    "print(str(response))"
   ]
  },
  {
   "cell_type": "markdown",
   "id": "d47d15d3",
   "metadata": {},
   "source": [
    "# Using JSON QUERY ENGINE"
   ]
  },
  {
   "cell_type": "code",
   "execution_count": 1,
   "id": "4654995b",
   "metadata": {},
   "outputs": [],
   "source": [
    "#!pip install jsonpath-ng"
   ]
  },
  {
   "cell_type": "markdown",
   "id": "da18c177",
   "metadata": {},
   "source": [
    "Notes:</br>\n",
    "-Json Schema- Standardised way to describe Json structure\n",
    "-we can use chatGPt to create json schema for the json data</br>\n",
    "-Json value, Json schema, User question are the inputs to a JSONQueryEngine</br>\n",
    "-JSONQueryEngine will generate an ExecuteJSONPathQuery</br>\n",
    "-we can extract the response from ExecuteJSONPathQuery</br>"
   ]
  },
  {
   "cell_type": "code",
   "execution_count": 58,
   "id": "1ab5e2f6",
   "metadata": {},
   "outputs": [],
   "source": [
    "# Create a JSon schema for the json file- we can use chatGPT to create the schema for us"
   ]
  },
  {
   "cell_type": "code",
   "execution_count": 23,
   "id": "51f02c05",
   "metadata": {},
   "outputs": [],
   "source": [
    "# import libraries\n",
    "import json\n",
    "from llama_index.indices.service_context import ServiceContext\n",
    "from llama_index.llms import OpenAI\n",
    "from llama_index.indices.struct_store import JSONQueryEngine\n",
    "from IPython.display import Markdown, display"
   ]
  },
  {
   "cell_type": "code",
   "execution_count": 5,
   "id": "481a6bcf",
   "metadata": {},
   "outputs": [],
   "source": [
    "# load json data & its schema\n",
    "# Opening JSON file\n",
    "with open('data.json') as f:\n",
    "    # returns JSON object as a dictionary\n",
    "    data = json.load(f)\n",
    "    \n",
    "with open('schema.json') as f:\n",
    "    json_schema=json.load(f)"
   ]
  },
  {
   "cell_type": "code",
   "execution_count": 14,
   "id": "c803b917",
   "metadata": {},
   "outputs": [],
   "source": [
    "# create query engine\n",
    "llm = OpenAI(model=\"gpt-4\",openai_api_key=OPENAI_API_KEY)\n",
    "# create a service_context for the model we are using\n",
    "service_context = ServiceContext.from_defaults(llm=llm)\n",
    "# create a query_engine that will return Natural language Response\n",
    "nl_query_engine = JSONQueryEngine(\n",
    "    json_value=data,\n",
    "    json_schema=json_schema,\n",
    "    service_context=service_context,\n",
    ")\n",
    "# create another query_engine that will return Raw JSON Response \n",
    "raw_query_engine = JSONQueryEngine(\n",
    "    json_value=data,\n",
    "    json_schema=json_schema,\n",
    "    service_context=service_context,\n",
    "    synthesize_response=False,\n",
    ")"
   ]
  },
  {
   "cell_type": "code",
   "execution_count": 15,
   "id": "6562664f",
   "metadata": {},
   "outputs": [],
   "source": [
    "# make query\n",
    "nl_response = nl_query_engine.query(\n",
    "    \"What are the breakfast options available?\",\n",
    ")"
   ]
  },
  {
   "cell_type": "code",
   "execution_count": 46,
   "id": "3cfc08d9",
   "metadata": {},
   "outputs": [
    {
     "data": {
      "text/plain": [
       "Response(response='The breakfast item available is the Classic Eggs Benedict. It is described as poached eggs on toasted English muffins with Canadian bacon and hollandaise sauce. The price is $12.99. The ingredients include eggs, English muffin, Canadian bacon, and hollandaise sauce. There are options for a gluten-free muffin and turkey bacon. It is available from 7am to 11am.', source_nodes=[], metadata={'json_path_response_str': '$.breakfast[*]'})"
      ]
     },
     "execution_count": 46,
     "metadata": {},
     "output_type": "execute_result"
    }
   ],
   "source": [
    "nl_response"
   ]
  },
  {
   "cell_type": "code",
   "execution_count": 45,
   "id": "8bd94967",
   "metadata": {},
   "outputs": [
    {
     "data": {
      "text/markdown": [
       "The breakfast item available is the Classic Eggs Benedict. It is described as poached eggs on toasted English muffins with Canadian bacon and hollandaise sauce. The price is $12.99. The ingredients include eggs, English muffin, Canadian bacon, and hollandaise sauce. There are options for a gluten-free muffin and turkey bacon. It is available from 7am to 11am."
      ],
      "text/plain": [
       "<IPython.core.display.Markdown object>"
      ]
     },
     "metadata": {},
     "output_type": "display_data"
    }
   ],
   "source": [
    "# display the response as markdown\n",
    "display(\n",
    "    Markdown(f\"{nl_response}\")\n",
    ")"
   ]
  },
  {
   "cell_type": "code",
   "execution_count": 20,
   "id": "f7f36a96",
   "metadata": {},
   "outputs": [],
   "source": [
    "# make query to raw_query_engine. it will return  Raw JSON Response \n",
    "raw_response = raw_query_engine.query(\n",
    "    \"What are the breakfast options available?\",\n",
    ")"
   ]
  },
  {
   "cell_type": "code",
   "execution_count": 21,
   "id": "41a7b3cb",
   "metadata": {},
   "outputs": [
    {
     "data": {
      "text/plain": [
       "Response(response='{\"name\": \"Classic Eggs Benedict\"}', source_nodes=[], metadata={'json_path_response_str': '$.breakfast[*].name'})"
      ]
     },
     "execution_count": 21,
     "metadata": {},
     "output_type": "execute_result"
    }
   ],
   "source": [
    "raw_response"
   ]
  },
  {
   "cell_type": "code",
   "execution_count": 48,
   "id": "1ce6c450",
   "metadata": {},
   "outputs": [
    {
     "data": {
      "text/markdown": [
       "{\"name\": \"Classic Eggs Benedict\"}"
      ],
      "text/plain": [
       "<IPython.core.display.Markdown object>"
      ]
     },
     "metadata": {},
     "output_type": "display_data"
    }
   ],
   "source": [
    "# display the response as markdown\n",
    "display(\n",
    "    Markdown(f\"{raw_response}\")\n",
    ")"
   ]
  },
  {
   "cell_type": "code",
   "execution_count": 52,
   "id": "3db1cea9",
   "metadata": {},
   "outputs": [
    {
     "data": {
      "text/markdown": [
       "<h4>Natural language Response</h4><br>The breakfast item available is the Classic Eggs Benedict. It is described as poached eggs on toasted English muffins with Canadian bacon and hollandaise sauce. The price is $12.99. The ingredients include eggs, English muffin, Canadian bacon, and hollandaise sauce. There are options for a gluten-free muffin and turkey bacon. It is available from 7am to 11am."
      ],
      "text/plain": [
       "<IPython.core.display.Markdown object>"
      ]
     },
     "metadata": {},
     "output_type": "display_data"
    },
    {
     "data": {
      "text/markdown": [
       "<h4>Raw JSON Response</h4><br>{\"name\": \"Classic Eggs Benedict\"}<"
      ],
      "text/plain": [
       "<IPython.core.display.Markdown object>"
      ]
     },
     "metadata": {},
     "output_type": "display_data"
    }
   ],
   "source": [
    "# response from the 2 different query engines\n",
    "display(\n",
    "    Markdown(f\"<h4>Natural language Response</h4><br>{nl_response}\")\n",
    ")\n",
    "display(Markdown(f\"<h4>Raw JSON Response</h4><br>{raw_response}<\"))"
   ]
  },
  {
   "cell_type": "code",
   "execution_count": 42,
   "id": "111910d4",
   "metadata": {},
   "outputs": [
    {
     "data": {
      "text/plain": [
       "Response(response='We have a drink item called Iced Tea. It is a refreshing iced tea brewed with a hint of lemon. It costs $3.5. The ingredients are Tea and Lemon. You can choose between sweetened and unsweetened options. It is available all day.', source_nodes=[], metadata={'json_path_response_str': '$.drinks[*]'})"
      ]
     },
     "execution_count": 42,
     "metadata": {},
     "output_type": "execute_result"
    }
   ],
   "source": [
    "nl_query_engine.query(\n",
    "    \"What are the drinks items you have?\",\n",
    ")"
   ]
  },
  {
   "cell_type": "code",
   "execution_count": 43,
   "id": "1fcc956c",
   "metadata": {},
   "outputs": [
    {
     "name": "stdout",
     "output_type": "stream",
     "text": [
      "Raw NL Response: The breakfast item available is the Classic Eggs Benedict. It is described as poached eggs on toasted English muffins with Canadian bacon and hollandaise sauce. The price is $12.99. The ingredients include eggs, English muffin, Canadian bacon, and hollandaise sauce. There are options for a gluten-free muffin and turkey bacon. It is available from 7am to 11am.\n"
     ]
    }
   ],
   "source": [
    "print(\"Raw NL Response:\", response_text)"
   ]
  },
  {
   "cell_type": "code",
   "execution_count": 31,
   "id": "1af86526",
   "metadata": {},
   "outputs": [
    {
     "data": {
      "text/plain": [
       "Response(response='Yes, the breakfast item Classic Eggs Benedict contains eggs.', source_nodes=[], metadata={'json_path_response_str': \"$.breakfast[?(@.name=='Classic Eggs Benedict')].ingredients[*]\"})"
      ]
     },
     "execution_count": 31,
     "metadata": {},
     "output_type": "execute_result"
    }
   ],
   "source": [
    "nl_query_engine.query(\n",
    "    \"Is breakfast item Classic Eggs Benedict contains eggs?\",\n",
    ")"
   ]
  },
  {
   "cell_type": "code",
   "execution_count": 33,
   "id": "4dde9a01",
   "metadata": {},
   "outputs": [
    {
     "data": {
      "text/plain": [
       "Response(response='The breakfast item available is the Classic Eggs Benedict. It is described as poached eggs on toasted English muffins with Canadian bacon and hollandaise sauce. The price is $12.99. The ingredients include eggs, English muffin, Canadian bacon, and hollandaise sauce. There are options for a gluten-free muffin and turkey bacon. It is available from 7am to 11am.', source_nodes=[], metadata={'json_path_response_str': '$.breakfast[*]'})"
      ]
     },
     "execution_count": 33,
     "metadata": {},
     "output_type": "execute_result"
    }
   ],
   "source": [
    "nl_query_engine.query(\n",
    "    \"List all breakfast items.\",\n",
    ")"
   ]
  },
  {
   "cell_type": "code",
   "execution_count": null,
   "id": "cc5f1aa3",
   "metadata": {},
   "outputs": [],
   "source": []
  }
 ],
 "metadata": {
  "kernelspec": {
   "display_name": "Python 3 (ipykernel)",
   "language": "python",
   "name": "python3"
  },
  "language_info": {
   "codemirror_mode": {
    "name": "ipython",
    "version": 3
   },
   "file_extension": ".py",
   "mimetype": "text/x-python",
   "name": "python",
   "nbconvert_exporter": "python",
   "pygments_lexer": "ipython3",
   "version": "3.11.5"
  }
 },
 "nbformat": 4,
 "nbformat_minor": 5
}
